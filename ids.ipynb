{
  "nbformat": 4,
  "nbformat_minor": 0,
  "metadata": {
    "colab": {
      "provenance": []
    },
    "kernelspec": {
      "name": "python3",
      "display_name": "Python 3"
    },
    "language_info": {
      "name": "python"
    }
  },
  "cells": [
    {
      "cell_type": "code",
      "execution_count": null,
      "metadata": {
        "id": "Aq0smIG1fHBI"
      },
      "outputs": [],
      "source": [
        "import os\n",
        "import pandas as pd\n",
        "import numpy as np\n",
        "import matplotlib.pyplot as plt\n",
        "import seaborn as sns\n",
        "import time\n",
        "with open(\"..\\\\kddcup.names\", 'r') as f:\n",
        "\tprint(f.read())"
      ]
    },
    {
      "cell_type": "code",
      "source": [
        " cols =\"\"\"duration,\n",
        "protocol_type,\n",
        "service,\n",
        "flag,\n",
        "src_bytes,\n",
        "dst_bytes,\n",
        "land,\n",
        "wrong_fragment,\n",
        "urgent,\n",
        "hot,\n",
        "num_failed_logins,\n",
        "logged_in,\n",
        "num_compromised,\n",
        "root_shell,\n",
        "su_attempted,\n",
        "num_root,\n",
        "num_file_creations,\n",
        "num_shells,\n",
        "num_access_files,\n",
        "num_outbound_cmds,\n",
        "is_host_login,\n",
        "is_guest_login,\n",
        "count,\n",
        "srv_count,\n",
        "serror_rate,\n",
        "srv_serror_rate,\n",
        "rerror_rate,\n",
        "srv_rerror_rate,\n",
        "same_srv_rate,\n",
        "diff_srv_rate,\n",
        "srv_diff_host_rate,\n",
        "dst_host_count,\n",
        "dst_host_srv_count,\n",
        "dst_host_same_srv_rate,\n",
        "dst_host_diff_srv_rate,\n",
        "dst_host_same_src_port_rate,\n",
        "dst_host_srv_diff_host_rate,\n",
        "dst_host_serror_rate,\n",
        "dst_host_srv_serror_rate,\n",
        "dst_host_rerror_rate,\n",
        "dst_host_srv_rerror_rate\"\"\"\n",
        "columns =[]\n",
        "for c in cols.split(', '):\n",
        "\tif(c.strip()):\n",
        "\tcolumns.append(c.strip())\n",
        "columns.append('target')\n",
        "print(len(columns))"
      ],
      "metadata": {
        "id": "75o11IiRfOYS"
      },
      "execution_count": null,
      "outputs": []
    },
    {
      "cell_type": "code",
      "source": [
        " with open(\"..\\\\training_attack_types\", 'r') as f:\n",
        "\tprint(f.read())"
      ],
      "metadata": {
        "id": "qdR6doKvfSZb"
      },
      "execution_count": null,
      "outputs": []
    },
    {
      "cell_type": "code",
      "source": [
        " attacks_types = {\n",
        "\t'normal': 'normal',\n",
        "'back': 'dos',\n",
        "'buffer_overflow': 'u2r',\n",
        "'ftp_write': 'r2l',\n",
        "'guess_passwd': 'r2l',\n",
        "'imap': 'r2l',\n",
        "'ipsweep': 'probe',\n",
        "'land': 'dos',\n",
        "'loadmodule': 'u2r',\n",
        "'multihop': 'r2l',\n",
        "'neptune': 'dos',\n",
        "'nmap': 'probe',\n",
        "'perl': 'u2r',\n",
        "'phf': 'r2l',\n",
        "'pod': 'dos',\n",
        "'portsweep': 'probe',\n",
        "'rootkit': 'u2r',\n",
        "'satan': 'probe',\n",
        "'smurf': 'dos',\n",
        "'spy': 'r2l',\n",
        "'teardrop': 'dos',\n",
        "'warezclient': 'r2l',\n",
        "'warezmaster': 'r2l',\n",
        "}\n"
      ],
      "metadata": {
        "id": "n9znxuEcfUD7"
      },
      "execution_count": null,
      "outputs": []
    },
    {
      "cell_type": "code",
      "source": [
        "path = \"..\\\\kddcup.data_10_percent.gz\"\n",
        "df = pd.read_csv(path, names = columns)\n",
        "df['Attack Type'] = df.target.apply(lambda r:attacks_types[r[:-1]])\n",
        "df.head()"
      ],
      "metadata": {
        "id": "HSTgz6GTfW-z"
      },
      "execution_count": null,
      "outputs": []
    },
    {
      "cell_type": "code",
      "source": [
        "df.isnull().sum()"
      ],
      "metadata": {
        "id": "VqYGvVSrfZWD"
      },
      "execution_count": null,
      "outputs": []
    },
    {
      "cell_type": "code",
      "source": [
        "num_cols = df._get_numeric_data().columns\n",
        "cate_cols = list(set(df.columns)-set(num_cols))\n",
        "cate_cols.remove('target')\n",
        "cate_cols.remove('Attack Type')\n",
        "cate_cols"
      ],
      "metadata": {
        "id": "f4gNq7iifbwD"
      },
      "execution_count": null,
      "outputs": []
    },
    {
      "cell_type": "code",
      "source": [
        "df = df.dropna('columns')\n",
        "df = df[[col for col in df if df[col].nunique() > 1]]# keep columns where there are more than 1 unique values\n",
        "corr = df.corr()\n",
        "plt.figure(figsize =(15, 12))\n",
        "sns.heatmap(corr)\n",
        "plt.show()"
      ],
      "metadata": {
        "id": "QOHI5ciefdt6"
      },
      "execution_count": null,
      "outputs": []
    },
    {
      "cell_type": "code",
      "source": [
        " df.drop('num_root', axis = 1, inplace = True)\n",
        "df.drop('srv_serror_rate', axis = 1, inplace = True)\n",
        "df.drop('srv_rerror_rate', axis = 1, inplace = True)\n",
        "df.drop('dst_host_srv_serror_rate', axis = 1, inplace = True)\n",
        "df.drop('dst_host_serror_rate', axis = 1, inplace = True)\n",
        "df.drop('dst_host_rerror_rate', axis = 1, inplace = True)\n",
        "df.drop('dst_host_srv_rerror_rate', axis = 1, inplace = True)\n",
        "df.drop('dst_host_same_srv_rate', axis = 1, inplace = True)"
      ],
      "metadata": {
        "id": "0BGPKjcyff-7"
      },
      "execution_count": null,
      "outputs": []
    },
    {
      "cell_type": "code",
      "source": [
        "pmap = {'icmp':0, 'tcp':1, 'udp':2}\n",
        "df['protocol_type'] = df['protocol_type'].map(pmap)"
      ],
      "metadata": {
        "id": "y4pAgCqTfijT"
      },
      "execution_count": null,
      "outputs": []
    },
    {
      "cell_type": "code",
      "source": [
        "fmap = {'SF':0, 'S0':1, 'REJ':2, 'RSTR':3, 'RSTO':4, 'SH':5, 'S1':6, 'S2':7, 'RSTOS0':8, 'S3':9, 'OTH':10}\n",
        "df['flag'] = df['flag'].map(fmap)"
      ],
      "metadata": {
        "id": "Ebf9DdcKfkRy"
      },
      "execution_count": null,
      "outputs": []
    },
    {
      "cell_type": "code",
      "source": [
        "df.drop('service', axis = 1, inplace = True)"
      ],
      "metadata": {
        "id": "_fSqQOGXflsS"
      },
      "execution_count": null,
      "outputs": []
    },
    {
      "cell_type": "code",
      "source": [
        "from sklearn.model_selection import train_test_split\n",
        "from sklearn.preprocessing import MinMaxScaler"
      ],
      "metadata": {
        "id": "7a3lRpe7fnG7"
      },
      "execution_count": null,
      "outputs": []
    },
    {
      "cell_type": "code",
      "source": [
        "df = df.drop(['target', ], axis = 1)\n",
        "print(df.shape)\n",
        "y = df[['Attack Type']]\n",
        "X = df.drop(['Attack Type', ], axis = 1)\n",
        "sc = MinMaxScaler()\n",
        "X = sc.fit_transform(X)\n",
        "X_train, X_test, y_train, y_test = train_test_split(X, y, test_size = 0.33, random_state = 42)\n",
        "print(X_train.shape, X_test.shape)\n",
        "print(y_train.shape, y_test.shape)"
      ],
      "metadata": {
        "id": "uFGVNTNsfoRb"
      },
      "execution_count": null,
      "outputs": []
    },
    {
      "cell_type": "code",
      "source": [
        "from sklearn.naive_bayes import GaussianNB\n",
        "from sklearn.metrics import accuracy_score\n",
        "clfg = GaussianNB()\n",
        "start_time = time.time()\n",
        "clfg.fit(X_train, y_train.values.ravel())\n",
        "end_time = time.time()\n",
        "print(\"Training time: \", end_time-start_time)"
      ],
      "metadata": {
        "id": "rOklPQhvfo0K"
      },
      "execution_count": null,
      "outputs": []
    },
    {
      "cell_type": "code",
      "source": [
        " start_time = time.time()\n",
        "y_test_pred = clfg.predict(X_train)\n",
        "end_time = time.time()\n",
        "print(\"Testing time: \", end_time-start_time)"
      ],
      "metadata": {
        "id": "LhRpNSccfrMi"
      },
      "execution_count": null,
      "outputs": []
    },
    {
      "cell_type": "code",
      "source": [
        "print(\"Train score is:\", clfg.score(X_train, y_train))\n",
        "print(\"Test score is:\", clfg.score(X_test, y_test))"
      ],
      "metadata": {
        "id": "mBm2Wphsfsva"
      },
      "execution_count": null,
      "outputs": []
    },
    {
      "cell_type": "code",
      "source": [
        "from sklearn.tree import DecisionTreeClassifier\n",
        "clfd = DecisionTreeClassifier(criterion =\"entropy\", max_depth = 4)\n",
        "start_time = time.time()\n",
        "clfd.fit(X_train, y_train.values.ravel())\n",
        "end_time = time.time()\n",
        "print(\"Training time: \", end_time-start_time)"
      ],
      "metadata": {
        "id": "cAKihV6vfvBK"
      },
      "execution_count": null,
      "outputs": []
    },
    {
      "cell_type": "code",
      "source": [
        "start_time = time.time()\n",
        "y_test_pred = clfd.predict(X_train)\n",
        "end_time = time.time()\n",
        "print(\"Testing time: \", end_time-start_time)"
      ],
      "metadata": {
        "id": "WbeV9OUyfw1s"
      },
      "execution_count": null,
      "outputs": []
    },
    {
      "cell_type": "code",
      "source": [
        "print(\"Train score is:\", clfd.score(X_train, y_train))\n",
        "print(\"Test score is:\", clfd.score(X_test, y_test))"
      ],
      "metadata": {
        "id": "HCapA9HUfyQz"
      },
      "execution_count": null,
      "outputs": []
    },
    {
      "cell_type": "code",
      "source": [
        "from sklearn.ensemble import RandomForestClassifier\n",
        "clfr = RandomForestClassifier(n_estimators = 30)\n",
        "start_time = time.time()\n",
        "clfr.fit(X_train, y_train.values.ravel())\n",
        "end_time = time.time()\n",
        "print(\"Training time: \", end_time-start_time)"
      ],
      "metadata": {
        "id": "obJ97aQrf0HM"
      },
      "execution_count": null,
      "outputs": []
    },
    {
      "cell_type": "code",
      "source": [
        "start_time = time.time()\n",
        "y_test_pred = clfr.predict(X_train)\n",
        "end_time = time.time()\n",
        "print(\"Testing time: \", end_time-start_time)"
      ],
      "metadata": {
        "id": "mB0pE6EEf16r"
      },
      "execution_count": null,
      "outputs": []
    },
    {
      "cell_type": "code",
      "source": [
        "print(\"Train score is:\", clfr.score(X_train, y_train))\n",
        "print(\"Test score is:\", clfr.score(X_test, y_test))"
      ],
      "metadata": {
        "id": "NuPodE77f3KL"
      },
      "execution_count": null,
      "outputs": []
    },
    {
      "cell_type": "code",
      "source": [
        "from sklearn.svm import SVC\n",
        "clfs = SVC(gamma = 'scale')\n",
        "start_time = time.time()\n",
        "clfs.fit(X_train, y_train.values.ravel())\n",
        "end_time = time.time()\n",
        "print(\"Training time: \", end_time-start_time)"
      ],
      "metadata": {
        "id": "KFtmaInOf4Sr"
      },
      "execution_count": null,
      "outputs": []
    },
    {
      "cell_type": "code",
      "source": [
        "start_time = time.time()\n",
        "y_test_pred = clfs.predict(X_train)\n",
        "end_time = time.time()\n",
        "print(\"Testing time: \", end_time-start_time)"
      ],
      "metadata": {
        "id": "WAsyPaY5f5vc"
      },
      "execution_count": null,
      "outputs": []
    },
    {
      "cell_type": "code",
      "source": [
        "print(\"Train score is:\", clfs.score(X_train, y_train))\n",
        "print(\"Test score is:\", clfs.score(X_test, y_test))"
      ],
      "metadata": {
        "id": "RpvcPRxcf63k"
      },
      "execution_count": null,
      "outputs": []
    },
    {
      "cell_type": "code",
      "source": [
        "from sklearn.linear_model import LogisticRegression\n",
        "clfl = LogisticRegression(max_iter = 1200000)\n",
        "start_time = time.time()\n",
        "clfl.fit(X_train, y_train.values.ravel())\n",
        "end_time = time.time()\n",
        "print(\"Training time: \", end_time-start_time)"
      ],
      "metadata": {
        "id": "XxwcOKcRf8Mj"
      },
      "execution_count": null,
      "outputs": []
    },
    {
      "cell_type": "code",
      "source": [
        "start_time = time.time()\n",
        "y_test_pred = clfl.predict(X_train)\n",
        "end_time = time.time()\n",
        "print(\"Testing time: \", end_time-start_time)"
      ],
      "metadata": {
        "id": "y_r_nwI1f9db"
      },
      "execution_count": null,
      "outputs": []
    },
    {
      "cell_type": "code",
      "source": [
        "print(\"Train score is:\", clfl.score(X_train, y_train))\n",
        "print(\"Test score is:\", clfl.score(X_test, y_test))"
      ],
      "metadata": {
        "id": "rHEWodpxf-1d"
      },
      "execution_count": null,
      "outputs": []
    },
    {
      "cell_type": "code",
      "source": [
        "from sklearn.ensemble import GradientBoostingClassifier\n",
        "clfg = GradientBoostingClassifier(random_state = 0)\n",
        "start_time = time.time()\n",
        "clfg.fit(X_train, y_train.values.ravel())\n",
        "end_time = time.time()\n",
        "print(\"Training time: \", end_time-start_time)"
      ],
      "metadata": {
        "id": "dnp2ieICf_-U"
      },
      "execution_count": null,
      "outputs": []
    },
    {
      "cell_type": "code",
      "source": [
        "start_time = time.time()\n",
        "y_test_pred = clfg.predict(X_train)\n",
        "end_time = time.time()\n",
        "print(\"Testing time: \", end_time-start_time)"
      ],
      "metadata": {
        "id": "aojyq7SxgBFz"
      },
      "execution_count": null,
      "outputs": []
    },
    {
      "cell_type": "code",
      "source": [
        "print(\"Train score is:\", clfg.score(X_train, y_train))\n",
        "print(\"Test score is:\", clfg.score(X_test, y_test))"
      ],
      "metadata": {
        "id": "L-Urj65OgDvU"
      },
      "execution_count": null,
      "outputs": []
    },
    {
      "cell_type": "code",
      "source": [
        "names = ['NB', 'DT', 'RF', 'SVM', 'LR', 'GB']\n",
        "values = [87.951, 99.058, 99.997, 99.875, 99.352, 99.793]\n",
        "f = plt.figure(figsize =(15, 3), num = 10)\n",
        "plt.subplot(131)\n",
        "plt.bar(names, values)"
      ],
      "metadata": {
        "id": "4X7pCoAigE-T"
      },
      "execution_count": null,
      "outputs": []
    },
    {
      "cell_type": "code",
      "source": [
        "names = ['NB', 'DT', 'RF', 'SVM', 'LR', 'GB']\n",
        "values = [87.903, 99.052, 99.969, 99.879, 99.352, 99.771]\n",
        "f = plt.figure(figsize =(15, 3), num = 10)\n",
        "plt.subplot(131)\n",
        "plt.bar(names, values)"
      ],
      "metadata": {
        "id": "BPMzJlu7gGLb"
      },
      "execution_count": null,
      "outputs": []
    },
    {
      "cell_type": "code",
      "source": [
        "names = ['NB', 'DT', 'RF', 'SVM', 'LR', 'GB']\n",
        "values = [1.11452, 2.44087, 17.08491, 218.26840, 92.94222, 633.229]\n",
        "f = plt.figure(figsize =(15, 3), num = 10)\n",
        "plt.subplot(131)\n",
        "plt.bar(names, values)"
      ],
      "metadata": {
        "id": "l8Enj8EHgH0T"
      },
      "execution_count": null,
      "outputs": []
    },
    {
      "cell_type": "code",
      "source": [
        "names = ['NB', 'DT', 'RF', 'SVM', 'LR', 'GB']\n",
        "values = [1.54329, 0.14877, 0.199471, 126.50875, 0.09605, 2.95039]\n",
        "f = plt.figure(figsize =(15, 3), num = 10)\n",
        "plt.subplot(131)\n",
        "plt.bar(names, values)"
      ],
      "metadata": {
        "id": "0SuTyunugJvz"
      },
      "execution_count": null,
      "outputs": []
    },
    {
      "cell_type": "markdown",
      "source": [],
      "metadata": {
        "id": "nj9AJagMfLzF"
      }
    }
  ]
}